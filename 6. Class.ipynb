{
 "cells": [
  {
   "cell_type": "code",
   "execution_count": 7,
   "id": "ba2f73ae",
   "metadata": {},
   "outputs": [],
   "source": [
    "class Calculator():\n",
    "    def Addition(a,b):\n",
    "        add = a+b\n",
    "        return add\n",
    "    def Sutraction(a,b):\n",
    "        sub = a-b\n",
    "        return sub\n",
    "    def Multiplication(a,b):\n",
    "        mul = a*b\n",
    "        return mul\n",
    "    \n"
   ]
  },
  {
   "cell_type": "code",
   "execution_count": 3,
   "id": "4fa2c81d",
   "metadata": {},
   "outputs": [
    {
     "data": {
      "text/plain": [
       "4"
      ]
     },
     "execution_count": 3,
     "metadata": {},
     "output_type": "execute_result"
    }
   ],
   "source": [
    "Calculator.Addition(2,2)"
   ]
  },
  {
   "cell_type": "code",
   "execution_count": 4,
   "id": "ec197806",
   "metadata": {},
   "outputs": [
    {
     "data": {
      "text/plain": [
       "0"
      ]
     },
     "execution_count": 4,
     "metadata": {},
     "output_type": "execute_result"
    }
   ],
   "source": [
    "Calculator.Sutraction(2,2)"
   ]
  },
  {
   "cell_type": "code",
   "execution_count": 10,
   "id": "0ad665d1",
   "metadata": {},
   "outputs": [
    {
     "data": {
      "text/plain": [
       "4"
      ]
     },
     "execution_count": 10,
     "metadata": {},
     "output_type": "execute_result"
    }
   ],
   "source": [
    "Calculator.Multiplication(2,2)"
   ]
  },
  {
   "cell_type": "code",
   "execution_count": 19,
   "id": "cd28e169",
   "metadata": {},
   "outputs": [],
   "source": [
    "class multiFunction():\n",
    "    def oddEven():\n",
    "        num = int(input(\"Enter a value : \"))\n",
    "        if ((num%2)==0):\n",
    "            print(\"Even\")\n",
    "            message = \"Even\"\n",
    "        else:\n",
    "            print(\"odd\")\n",
    "            message = \"Odd\"\n",
    "        return message\n",
    "    \n",
    "    def AgeCategory():\n",
    "        age = int(input(\"Enter a Age : \"))\n",
    "        if (age<18):\n",
    "            print(\"Children\")\n",
    "            cate = \"Chidren\"\n",
    "        elif(age<35):\n",
    "            print(\"Adult\")\n",
    "            cate = \"Adult\"\n",
    "        elif(age<59):\n",
    "            print(\"Citizen\")\n",
    "            cate = \"Citizen\"\n",
    "        elif(age>59):\n",
    "            print(\"Senior Citizen\")\n",
    "            cate = \"Senior Citizen\"\n",
    "        return cate\n",
    "    \n",
    "    def BMI():\n",
    "        bmi = int(input(\"Enter the BMI Index : \"))\n",
    "        if(bmi<=18.5):\n",
    "            print(\"Underweight\")\n",
    "        elif(bmi<=24.9):\n",
    "            print(\"Normal range\")\n",
    "        elif(bmi<=29.9):\n",
    "            print(\"Overweight\")\n",
    "        else:\n",
    "            print(\"Obese\")\n"
   ]
  },
  {
   "cell_type": "code",
   "execution_count": 16,
   "id": "08e1e152",
   "metadata": {},
   "outputs": [
    {
     "name": "stdout",
     "output_type": "stream",
     "text": [
      "Enter a Age : 20\n",
      "Adult\n"
     ]
    },
    {
     "data": {
      "text/plain": [
       "'Adult'"
      ]
     },
     "execution_count": 16,
     "metadata": {},
     "output_type": "execute_result"
    }
   ],
   "source": [
    "multiFunction.AgeCategory()"
   ]
  },
  {
   "cell_type": "code",
   "execution_count": 17,
   "id": "3da5f474",
   "metadata": {},
   "outputs": [
    {
     "name": "stdout",
     "output_type": "stream",
     "text": [
      "Enter a value : 5\n",
      "odd\n"
     ]
    },
    {
     "data": {
      "text/plain": [
       "'Odd'"
      ]
     },
     "execution_count": 17,
     "metadata": {},
     "output_type": "execute_result"
    }
   ],
   "source": [
    "multiFunction.oddEven()"
   ]
  },
  {
   "cell_type": "code",
   "execution_count": 18,
   "id": "dd4da3b1",
   "metadata": {},
   "outputs": [
    {
     "name": "stdout",
     "output_type": "stream",
     "text": [
      "Enter a value : 6\n",
      "Even\n"
     ]
    },
    {
     "data": {
      "text/plain": [
       "'Even'"
      ]
     },
     "execution_count": 18,
     "metadata": {},
     "output_type": "execute_result"
    }
   ],
   "source": [
    "multiFunction.oddEven()"
   ]
  },
  {
   "cell_type": "code",
   "execution_count": 20,
   "id": "16905d86",
   "metadata": {},
   "outputs": [
    {
     "name": "stdout",
     "output_type": "stream",
     "text": [
      "Enter the BMI Index : 52\n",
      "Obese\n"
     ]
    }
   ],
   "source": [
    "multiFunction.BMI()\n"
   ]
  },
  {
   "cell_type": "code",
   "execution_count": null,
   "id": "e86b509f",
   "metadata": {},
   "outputs": [],
   "source": []
  }
 ],
 "metadata": {
  "kernelspec": {
   "display_name": "Python 3 (ipykernel)",
   "language": "python",
   "name": "python3"
  },
  "language_info": {
   "codemirror_mode": {
    "name": "ipython",
    "version": 3
   },
   "file_extension": ".py",
   "mimetype": "text/x-python",
   "name": "python",
   "nbconvert_exporter": "python",
   "pygments_lexer": "ipython3",
   "version": "3.11.5"
  }
 },
 "nbformat": 4,
 "nbformat_minor": 5
}
