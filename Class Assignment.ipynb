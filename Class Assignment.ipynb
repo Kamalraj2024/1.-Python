{
 "cells": [
  {
   "cell_type": "code",
   "execution_count": 19,
   "id": "06a89674",
   "metadata": {},
   "outputs": [],
   "source": [
    "#SubfieldsInAI.Subfields()\n",
    "class SubfieldsInAI():\n",
    "    def subfields():\n",
    "        print(\"Sub-fields in AI are:\")\n",
    "        list1 = [\"Machine Learning\",\"Neural Networks\",\"Vision\",\"Robotics\",\"Speech Processing\",\"Natural Language Processing\"]\n",
    "        for i in range(0,len(list1)):\n",
    "            print(list1[i])\n"
   ]
  },
  {
   "cell_type": "code",
   "execution_count": 20,
   "id": "8b9f8e34",
   "metadata": {},
   "outputs": [
    {
     "name": "stdout",
     "output_type": "stream",
     "text": [
      "Sub-fields in AI are:\n",
      "Machine Learning\n",
      "Neural Networks\n",
      "Vision\n",
      "Robotics\n",
      "Speech Processing\n",
      "Natural Language Processing\n"
     ]
    }
   ],
   "source": [
    "SubfieldsInAI.subfields()"
   ]
  },
  {
   "cell_type": "code",
   "execution_count": 22,
   "id": "b16aa051",
   "metadata": {},
   "outputs": [],
   "source": [
    "#OddEven.OddEven()\n",
    "class oddEven():\n",
    "    def oddEven():\n",
    "        n = int(input(\"Enter a Number : \"))\n",
    "        if ((n%2)==0):\n",
    "            print(n,\" is a Even Number\")\n",
    "        else:\n",
    "            print(n,\"is a Odd Number\")\n",
    "        return"
   ]
  },
  {
   "cell_type": "code",
   "execution_count": 23,
   "id": "dce268a4",
   "metadata": {},
   "outputs": [
    {
     "name": "stdout",
     "output_type": "stream",
     "text": [
      "Enter a Number : 25\n",
      "25 is a Odd Number\n"
     ]
    }
   ],
   "source": [
    "oddEven.oddEven()"
   ]
  },
  {
   "cell_type": "code",
   "execution_count": 29,
   "id": "e75ac61d",
   "metadata": {},
   "outputs": [],
   "source": [
    "#ElegiblityForMarriage.Elegible()\n",
    "\n",
    "class ElegiblityForMarriage():\n",
    "    def Elegible():\n",
    "        sex = input(\"Enter your Gender : \")\n",
    "        age = int(input(\"Enter your Age : \"))\n",
    "        if (sex == 'male'):\n",
    "            if(age >= 21):\n",
    "                print(\"ELIGILE\")\n",
    "            else:\n",
    "                print(\"NOT ELIGILE\")\n",
    "        else:\n",
    "            if(age >= 18):\n",
    "                print(\"ELIGILE\")\n",
    "            else:\n",
    "                print(\"NOT ELIGILE\")\n",
    "            "
   ]
  },
  {
   "cell_type": "code",
   "execution_count": 32,
   "id": "657590da",
   "metadata": {},
   "outputs": [
    {
     "name": "stdout",
     "output_type": "stream",
     "text": [
      "Enter your Gender : female\n",
      "Enter your Age : 20\n",
      "ELIGILE\n"
     ]
    }
   ],
   "source": [
    "ElegiblityForMarriage.Elegible()"
   ]
  },
  {
   "cell_type": "code",
   "execution_count": 35,
   "id": "6e0cd37d",
   "metadata": {},
   "outputs": [],
   "source": [
    "#FindPercent.percentage()\n",
    "class FindPercent():\n",
    "    def percentage():\n",
    "        print(\"Enter five sujects marks\")\n",
    "        s1 = int(input(\"Subject1: \"))\n",
    "        s2 = int(input(\"Subject2: \"))\n",
    "        s3 = int(input(\"Subject3: \"))\n",
    "        s4 = int(input(\"Subject4: \"))\n",
    "        s5 = int(input(\"Subject5: \"))\n",
    "        total = s1+s2+s3+s4+s5\n",
    "        percent = ((total / 500) * 100)\n",
    "        print(\"Total : \",total)\n",
    "        print(\"Percentage : \",percent)"
   ]
  },
  {
   "cell_type": "code",
   "execution_count": 37,
   "id": "9c065807",
   "metadata": {},
   "outputs": [
    {
     "name": "stdout",
     "output_type": "stream",
     "text": [
      "Enter five sujects marks\n",
      "Subject1: 94\n",
      "Subject2: 95\n",
      "Subject3: 96\n",
      "Subject4: 97\n",
      "Subject5: 98\n",
      "Total :  480\n",
      "Percentage :  96.0\n"
     ]
    }
   ],
   "source": [
    "FindPercent.percentage()"
   ]
  },
  {
   "cell_type": "code",
   "execution_count": 3,
   "id": "38282a3a",
   "metadata": {},
   "outputs": [],
   "source": [
    "#triangle.triangle()\n",
    "    \n",
    "class triangle1():\n",
    "    def triangle():\n",
    "        Height = int(input(\"Enter the Height:\"))\n",
    "        Breadth = int(input(\"Enter the Breadth:\"))\n",
    "        AT = (Height*Breadth)/2\n",
    "        print(\"Area of Tringle: \",AT)\n",
    "        Height1 = int(input(\"Enter the Height1:\"))\n",
    "        Height2 = int(input(\"Enter the Height2:\"))\n",
    "        Breadth1 = int(input(\"Enter the Breadth:\"))\n",
    "        PT =  Height1+Height2+Breadth1\n",
    "        print(\"Perimeter of Tringle: \",PT)\n",
    "        \n",
    "        \n"
   ]
  },
  {
   "cell_type": "code",
   "execution_count": 5,
   "id": "68271c7e",
   "metadata": {},
   "outputs": [
    {
     "name": "stdout",
     "output_type": "stream",
     "text": [
      "Enter the Height:1\n",
      "Enter the Breadth:2\n",
      "Area of Tringle:  1.0\n",
      "Enter the Height1:3\n",
      "Enter the Height2:4\n",
      "Enter the Breadth:5\n",
      "Perimeter of Tringle:  12\n"
     ]
    }
   ],
   "source": [
    "triangle1.triangle()\n"
   ]
  },
  {
   "cell_type": "code",
   "execution_count": null,
   "id": "ab5aad17",
   "metadata": {},
   "outputs": [],
   "source": []
  }
 ],
 "metadata": {
  "kernelspec": {
   "display_name": "Python 3 (ipykernel)",
   "language": "python",
   "name": "python3"
  },
  "language_info": {
   "codemirror_mode": {
    "name": "ipython",
    "version": 3
   },
   "file_extension": ".py",
   "mimetype": "text/x-python",
   "name": "python",
   "nbconvert_exporter": "python",
   "pygments_lexer": "ipython3",
   "version": "3.11.5"
  }
 },
 "nbformat": 4,
 "nbformat_minor": 5
}
