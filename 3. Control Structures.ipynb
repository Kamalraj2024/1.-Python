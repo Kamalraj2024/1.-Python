{
 "cells": [
  {
   "cell_type": "code",
   "execution_count": 2,
   "id": "1ca6e417",
   "metadata": {},
   "outputs": [],
   "source": [
    "cif\n",
    "if ():\n",
    "    print()\n",
    "    "
   ]
  },
  {
   "cell_type": "code",
   "execution_count": 6,
   "id": "2fe3d26c",
   "metadata": {},
   "outputs": [
    {
     "name": "stdout",
     "output_type": "stream",
     "text": [
      "Enter the Age18\n"
     ]
    }
   ],
   "source": [
    "age = int(input(\"Enter the Age\"))"
   ]
  },
  {
   "cell_type": "code",
   "execution_count": 7,
   "id": "a937f726",
   "metadata": {},
   "outputs": [
    {
     "name": "stdout",
     "output_type": "stream",
     "text": [
      "Adult\n"
     ]
    }
   ],
   "source": [
    "if (age==18):\n",
    "    print(\"Adult\")"
   ]
  },
  {
   "cell_type": "code",
   "execution_count": 13,
   "id": "3c35fbc4",
   "metadata": {},
   "outputs": [
    {
     "name": "stdout",
     "output_type": "stream",
     "text": [
      "Enter the Age12\n"
     ]
    }
   ],
   "source": [
    "age = int(input(\"Enter the Age\"))"
   ]
  },
  {
   "cell_type": "code",
   "execution_count": 14,
   "id": "5d194044",
   "metadata": {},
   "outputs": [
    {
     "name": "stdout",
     "output_type": "stream",
     "text": [
      "Children\n"
     ]
    }
   ],
   "source": [
    "if(age<18):\n",
    "    print(\"Children\")\n",
    "else:\n",
    "    print(\"adult\")"
   ]
  },
  {
   "cell_type": "code",
   "execution_count": 18,
   "id": "c1a9a0f9",
   "metadata": {},
   "outputs": [
    {
     "name": "stdout",
     "output_type": "stream",
     "text": [
      "Enter the Age : 51\n"
     ]
    }
   ],
   "source": [
    "age = int(input(\"Enter the Age : \"))"
   ]
  },
  {
   "cell_type": "code",
   "execution_count": 19,
   "id": "d963b164",
   "metadata": {},
   "outputs": [
    {
     "name": "stdout",
     "output_type": "stream",
     "text": [
      "Citizen\n"
     ]
    }
   ],
   "source": [
    "if (age==18):\n",
    "    print(\"Children\")\n",
    "elif(age<35):\n",
    "    print(\"Adult\")\n",
    "elif(age<59):\n",
    "    print(\"Citizen\")\n",
    "elif(age>59):\n",
    "    print(\"Senior Citizen\")\n",
    "\n"
   ]
  },
  {
   "cell_type": "code",
   "execution_count": 1,
   "id": "d1acafae",
   "metadata": {},
   "outputs": [],
   "source": [
    "#for loop"
   ]
  },
  {
   "cell_type": "code",
   "execution_count": 3,
   "id": "843ad628",
   "metadata": {},
   "outputs": [],
   "source": [
    "lists = [12,25,35,56,82]"
   ]
  },
  {
   "cell_type": "code",
   "execution_count": 4,
   "id": "fbc5e195",
   "metadata": {},
   "outputs": [
    {
     "name": "stdout",
     "output_type": "stream",
     "text": [
      "12\n",
      "25\n",
      "35\n",
      "56\n",
      "82\n"
     ]
    }
   ],
   "source": [
    "for temp in lists:\n",
    "    print(temp)"
   ]
  },
  {
   "cell_type": "code",
   "execution_count": 8,
   "id": "3f772957",
   "metadata": {},
   "outputs": [
    {
     "name": "stdout",
     "output_type": "stream",
     "text": [
      "Children\n",
      "Adult\n",
      "Citizen\n",
      "Citizen\n",
      "Senior Citizen\n"
     ]
    }
   ],
   "source": [
    "for age in lists:\n",
    "    if (age<18):\n",
    "        print(\"Children\")\n",
    "    elif(age<35):\n",
    "        print(\"Adult\")\n",
    "    elif(age<59):\n",
    "        print(\"Citizen\")\n",
    "    elif(age>59):\n",
    "        print(\"Senior Citizen\")\n"
   ]
  },
  {
   "cell_type": "code",
   "execution_count": 14,
   "id": "49cd6fbd",
   "metadata": {},
   "outputs": [
    {
     "name": "stdout",
     "output_type": "stream",
     "text": [
      "Enter a value : 4\n",
      "Even\n"
     ]
    }
   ],
   "source": [
    "num = int(input(\"Enter a value : \"))\n",
    "if ((num%2)==0):\n",
    "    print(\"Even\")\n",
    "else:\n",
    "    print(\"odd\")\n"
   ]
  },
  {
   "cell_type": "code",
   "execution_count": 16,
   "id": "b9283d73",
   "metadata": {},
   "outputs": [
    {
     "name": "stdout",
     "output_type": "stream",
     "text": [
      "Enter a value : 2\n",
      "Even\n"
     ]
    }
   ],
   "source": [
    "num = int(input(\"Enter a value : \"))\n",
    "if ((num%2)==1):\n",
    "    print(\"Odd\")\n",
    "else:\n",
    "    print(\"Even\")\n"
   ]
  },
  {
   "cell_type": "code",
   "execution_count": 4,
   "id": "dfb77639",
   "metadata": {},
   "outputs": [
    {
     "name": "stdout",
     "output_type": "stream",
     "text": [
      "Enter a Numer : 3\n",
      "Odd Number\n"
     ]
    }
   ],
   "source": [
    "num = int(input(\"Enter a Numer : \"))\n",
    "if(num%2==0):\n",
    "    print(\"Even Nubmer\")\n",
    "else:\n",
    "    print(\"Odd Number\")"
   ]
  },
  {
   "cell_type": "code",
   "execution_count": 6,
   "id": "0b562fa4",
   "metadata": {},
   "outputs": [
    {
     "name": "stdout",
     "output_type": "stream",
     "text": [
      "Enter a Numer : 3\n",
      "Odd Nubmer\n"
     ]
    }
   ],
   "source": [
    "num = int(input(\"Enter a Numer : \"))\n",
    "if(num%2==1):\n",
    "    print(\"Odd Nubmer\")\n",
    "else:\n",
    "    print(\"Even Number\")"
   ]
  },
  {
   "cell_type": "code",
   "execution_count": 7,
   "id": "a480f82d",
   "metadata": {},
   "outputs": [
    {
     "data": {
      "text/plain": [
       "range(0, 10)"
      ]
     },
     "execution_count": 7,
     "metadata": {},
     "output_type": "execute_result"
    }
   ],
   "source": [
    "range(0,10)"
   ]
  },
  {
   "cell_type": "code",
   "execution_count": 8,
   "id": "2852dd42",
   "metadata": {},
   "outputs": [
    {
     "name": "stdout",
     "output_type": "stream",
     "text": [
      "<class 'range'>\n"
     ]
    }
   ],
   "source": [
    "print(range)"
   ]
  },
  {
   "cell_type": "code",
   "execution_count": 10,
   "id": "cb540f35",
   "metadata": {},
   "outputs": [
    {
     "name": "stdout",
     "output_type": "stream",
     "text": [
      "range(0, 10)\n"
     ]
    }
   ],
   "source": [
    "print(range(0,10))"
   ]
  },
  {
   "cell_type": "code",
   "execution_count": 11,
   "id": "143af9a0",
   "metadata": {},
   "outputs": [
    {
     "name": "stdout",
     "output_type": "stream",
     "text": [
      "0\n",
      "1\n",
      "2\n",
      "3\n",
      "4\n",
      "5\n",
      "6\n",
      "7\n",
      "8\n",
      "9\n"
     ]
    }
   ],
   "source": [
    "for num in range(0,10):\n",
    "    print(num)"
   ]
  },
  {
   "cell_type": "code",
   "execution_count": 14,
   "id": "22872812",
   "metadata": {},
   "outputs": [
    {
     "name": "stdout",
     "output_type": "stream",
     "text": [
      "10\n",
      "11\n",
      "12\n",
      "13\n",
      "14\n",
      "15\n",
      "16\n",
      "17\n",
      "18\n",
      "19\n"
     ]
    }
   ],
   "source": [
    "for num in range(10,20):\n",
    "    print(num)"
   ]
  },
  {
   "cell_type": "code",
   "execution_count": 20,
   "id": "070a86d1",
   "metadata": {},
   "outputs": [
    {
     "name": "stdout",
     "output_type": "stream",
     "text": [
      "10\n",
      "12\n",
      "14\n",
      "16\n",
      "18\n"
     ]
    }
   ],
   "source": [
    "for num in range(10,20,2):\n",
    "    print(num)"
   ]
  },
  {
   "cell_type": "code",
   "execution_count": null,
   "id": "2ec1b56a",
   "metadata": {},
   "outputs": [],
   "source": []
  }
 ],
 "metadata": {
  "kernelspec": {
   "display_name": "Python 3 (ipykernel)",
   "language": "python",
   "name": "python3"
  },
  "language_info": {
   "codemirror_mode": {
    "name": "ipython",
    "version": 3
   },
   "file_extension": ".py",
   "mimetype": "text/x-python",
   "name": "python",
   "nbconvert_exporter": "python",
   "pygments_lexer": "ipython3",
   "version": "3.11.5"
  }
 },
 "nbformat": 4,
 "nbformat_minor": 5
}
