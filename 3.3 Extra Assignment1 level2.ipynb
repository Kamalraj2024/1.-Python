{
 "cells": [
  {
   "cell_type": "code",
   "execution_count": 6,
   "id": "d0150fc4",
   "metadata": {},
   "outputs": [
    {
     "name": "stdout",
     "output_type": "stream",
     "text": [
      "0\n",
      "1\n",
      "2\n",
      "3\n",
      "4\n",
      "5\n",
      "6\n",
      "7\n",
      "8\n",
      "9\n",
      "10\n",
      "11\n",
      "12\n",
      "13\n",
      "14\n",
      "15\n",
      "16\n",
      "17\n",
      "18\n",
      "19\n"
     ]
    }
   ],
   "source": [
    "x = range(20)\n",
    "for n in x:\n",
    "    print(n)"
   ]
  },
  {
   "cell_type": "code",
   "execution_count": 7,
   "id": "ec134a87",
   "metadata": {},
   "outputs": [
    {
     "name": "stdout",
     "output_type": "stream",
     "text": [
      "0\n",
      "1\n",
      "2\n",
      "3\n",
      "4\n",
      "5\n",
      "6\n",
      "7\n",
      "8\n",
      "9\n",
      "10\n",
      "11\n",
      "12\n",
      "13\n",
      "14\n",
      "15\n",
      "16\n",
      "17\n",
      "18\n",
      "19\n"
     ]
    }
   ],
   "source": [
    "#range\n",
    "for n in range(0,20):\n",
    "    print(n)\n"
   ]
  },
  {
   "cell_type": "code",
   "execution_count": 17,
   "id": "e19493dc",
   "metadata": {},
   "outputs": [
    {
     "name": "stdout",
     "output_type": "stream",
     "text": [
      "10\n",
      "11\n",
      "12\n",
      "13\n",
      "14\n",
      "15\n",
      "16\n",
      "17\n",
      "18\n",
      "19\n"
     ]
    }
   ],
   "source": [
    "x = range(10,20)\n",
    "for n in x:\n",
    "    print(n)"
   ]
  },
  {
   "cell_type": "code",
   "execution_count": 21,
   "id": "b278fd1b",
   "metadata": {},
   "outputs": [
    {
     "name": "stdout",
     "output_type": "stream",
     "text": [
      "7\n"
     ]
    }
   ],
   "source": [
    "list = [10, 20, 14, 55, 43, 87, 76]\n",
    "print(len(list))"
   ]
  },
  {
   "cell_type": "code",
   "execution_count": 22,
   "id": "d518b04d",
   "metadata": {},
   "outputs": [
    {
     "name": "stdout",
     "output_type": "stream",
     "text": [
      "Artificial Intelligence\n"
     ]
    }
   ],
   "source": [
    "str1 = \"Artificial Intelligence\"\n",
    "print(str1)"
   ]
  },
  {
   "cell_type": "code",
   "execution_count": 24,
   "id": "dd4b34d7",
   "metadata": {},
   "outputs": [
    {
     "name": "stdout",
     "output_type": "stream",
     "text": [
      "Artificial Intelligence\n",
      "A\n",
      "r\n",
      "t\n",
      "i\n",
      "f\n",
      "i\n",
      "c\n",
      "i\n",
      "a\n",
      "l\n",
      " \n",
      "I\n",
      "n\n",
      "t\n",
      "e\n",
      "l\n",
      "l\n",
      "i\n",
      "g\n",
      "e\n",
      "n\n",
      "c\n",
      "e\n"
     ]
    }
   ],
   "source": [
    "str1 = \"Artificial Intelligence\"\n",
    "print(str1)\n",
    "for i in range(0,len(str1)):\n",
    "    print(str1[i])\n"
   ]
  },
  {
   "cell_type": "code",
   "execution_count": 25,
   "id": "6b75c7a7",
   "metadata": {},
   "outputs": [
    {
     "name": "stdout",
     "output_type": "stream",
     "text": [
      "Enter your Name: Kamalk\n",
      "Enter your Age35\n",
      "Enter your Professionteacher\n",
      "Name:  Kamalk\n",
      "Age:  35\n",
      "Profession:  teacher\n"
     ]
    }
   ],
   "source": [
    "name = input(\"Enter your Name: \")\n",
    "age = int(input(\"Enter your Age\"))\n",
    "prof = input(\"Enter your Profession\")\n",
    "print(\"Name: \",name)\n",
    "print(\"Age: \",age)\n",
    "print(\"Profession: \",prof)"
   ]
  },
  {
   "cell_type": "code",
   "execution_count": 27,
   "id": "0048ca92",
   "metadata": {},
   "outputs": [
    {
     "name": "stdout",
     "output_type": "stream",
     "text": [
      "(0, 1, 2, 3)\n"
     ]
    }
   ],
   "source": [
    "tuple1 = (0,1,2,3)\n",
    "print(tuple1)"
   ]
  },
  {
   "cell_type": "code",
   "execution_count": 28,
   "id": "761f37c2",
   "metadata": {},
   "outputs": [
    {
     "name": "stdout",
     "output_type": "stream",
     "text": [
      "((0, 1, 2, 3), ('python', 'HOPE'))\n"
     ]
    }
   ],
   "source": [
    "tuple1 = ((0,1,2,3),('python','HOPE'))\n",
    "print(tuple1)"
   ]
  },
  {
   "cell_type": "code",
   "execution_count": 31,
   "id": "ab900632",
   "metadata": {},
   "outputs": [
    {
     "name": "stdout",
     "output_type": "stream",
     "text": [
      "19  is Odd\n",
      "25  is Odd\n",
      "1  is Odd\n"
     ]
    }
   ],
   "source": [
    "list1 = (20,10,16,19,25,1,276,188)\n",
    "for i in range(0,len(list1)):\n",
    "    if (list1[i]%2==1):\n",
    "        print(list1[i],\" is Odd\")"
   ]
  },
  {
   "cell_type": "code",
   "execution_count": 32,
   "id": "768a9b64",
   "metadata": {},
   "outputs": [
    {
     "name": "stdout",
     "output_type": "stream",
     "text": [
      "20  is Even\n",
      "10  is Even\n",
      "16  is Even\n",
      "276  is Even\n",
      "188  is Even\n"
     ]
    }
   ],
   "source": [
    "list1 = (20,10,16,19,25,1,276,188)\n",
    "for i in range(0,len(list1)):\n",
    "    if (list1[i]%2==0):\n",
    "        print(list1[i],\" is Even\")"
   ]
  },
  {
   "cell_type": "code",
   "execution_count": null,
   "id": "6611f4f2",
   "metadata": {},
   "outputs": [],
   "source": []
  }
 ],
 "metadata": {
  "kernelspec": {
   "display_name": "Python 3 (ipykernel)",
   "language": "python",
   "name": "python3"
  },
  "language_info": {
   "codemirror_mode": {
    "name": "ipython",
    "version": 3
   },
   "file_extension": ".py",
   "mimetype": "text/x-python",
   "name": "python",
   "nbconvert_exporter": "python",
   "pygments_lexer": "ipython3",
   "version": "3.11.5"
  }
 },
 "nbformat": 4,
 "nbformat_minor": 5
}
