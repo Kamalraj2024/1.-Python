{
 "cells": [
  {
   "cell_type": "code",
   "execution_count": 12,
   "id": "dec44fb2",
   "metadata": {},
   "outputs": [
    {
     "name": "stdout",
     "output_type": "stream",
     "text": [
      "Enter a Value : 15\n"
     ]
    }
   ],
   "source": [
    "i = int(input(\"Enter a Value : \"))\n",
    "if (i == 10):\n",
    "    print(\"CORRCT\")"
   ]
  },
  {
   "cell_type": "code",
   "execution_count": 15,
   "id": "aa43d9a4",
   "metadata": {},
   "outputs": [
    {
     "name": "stdout",
     "output_type": "stream",
     "text": [
      "Enter the password: HOPE@123\n",
      "Your password is correct\n"
     ]
    }
   ],
   "source": [
    "psw = input(\"Enter the password: \")\n",
    "if (psw ==  \"HOPE@123\"):\n",
    "    print(\"Your password is correct\")"
   ]
  },
  {
   "cell_type": "code",
   "execution_count": 17,
   "id": "8c4b080e",
   "metadata": {},
   "outputs": [
    {
     "name": "stdout",
     "output_type": "stream",
     "text": [
      "Enter your Age : 20\n",
      "Adult\n"
     ]
    }
   ],
   "source": [
    "age = int(input(\"Enter your Age : \"))\n",
    "if(age>=18):\n",
    "    print(\"Adult\")"
   ]
  },
  {
   "cell_type": "code",
   "execution_count": 20,
   "id": "1cefc405",
   "metadata": {},
   "outputs": [
    {
     "name": "stdout",
     "output_type": "stream",
     "text": [
      "Enter a Number : 8\n",
      "No. is Positive\n"
     ]
    }
   ],
   "source": [
    "n1 = int(input(\"Enter a Number : \"))\n",
    "if (n1 > 0):\n",
    "    print(\"No. is Positive\")"
   ]
  },
  {
   "cell_type": "code",
   "execution_count": 22,
   "id": "29dc3fcc",
   "metadata": {},
   "outputs": [
    {
     "name": "stdout",
     "output_type": "stream",
     "text": [
      "Enter a Number to check : 22\n",
      "No. is not divisile by 5\n"
     ]
    }
   ],
   "source": [
    "n2 = int(input(\"Enter a Number to check : \"))\n",
    "if (n1%5 != 0):\n",
    "    print(\"No. is not divisile by 5\")"
   ]
  },
  {
   "cell_type": "code",
   "execution_count": null,
   "id": "6e6ae965",
   "metadata": {},
   "outputs": [],
   "source": []
  }
 ],
 "metadata": {
  "kernelspec": {
   "display_name": "Python 3 (ipykernel)",
   "language": "python",
   "name": "python3"
  },
  "language_info": {
   "codemirror_mode": {
    "name": "ipython",
    "version": 3
   },
   "file_extension": ".py",
   "mimetype": "text/x-python",
   "name": "python",
   "nbconvert_exporter": "python",
   "pygments_lexer": "ipython3",
   "version": "3.11.5"
  }
 },
 "nbformat": 4,
 "nbformat_minor": 5
}
