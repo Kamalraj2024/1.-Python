{
 "cells": [
  {
   "cell_type": "code",
   "execution_count": 1,
   "id": "dfd1919a",
   "metadata": {},
   "outputs": [
    {
     "name": "stdout",
     "output_type": "stream",
     "text": [
      "Welcome to Assignment-1\n"
     ]
    }
   ],
   "source": [
    "print(\"Welcome to Assignment-1\")"
   ]
  },
  {
   "cell_type": "code",
   "execution_count": 4,
   "id": "12b0e309",
   "metadata": {},
   "outputs": [
    {
     "name": "stdout",
     "output_type": "stream",
     "text": [
      "Add = 30\n"
     ]
    }
   ],
   "source": [
    "Num1 = 10\n",
    "Num2 = 20\n",
    "Add = Num1 + Num2\n",
    "print(\"Add =\",Add)"
   ]
  },
  {
   "cell_type": "code",
   "execution_count": 6,
   "id": "5c48183e",
   "metadata": {},
   "outputs": [
    {
     "name": "stdout",
     "output_type": "stream",
     "text": [
      "Enter a Value for Num1 : 10\n",
      "Enter a Value for Num2 : 20\n",
      "Add = 30\n"
     ]
    }
   ],
   "source": [
    "Num1 = int(input(\"Enter a Value for Num1 : \"))\n",
    "Num2 = int(input(\"Enter a Value for Num2 : \"))\n",
    "Add = Num1 + Num2\n",
    "print(\"Add =\",Add)"
   ]
  },
  {
   "cell_type": "code",
   "execution_count": 25,
   "id": "f8ab0f90",
   "metadata": {},
   "outputs": [
    {
     "name": "stdout",
     "output_type": "stream",
     "text": [
      "Enter the BMI Index : 15\n",
      "Underweight\n"
     ]
    }
   ],
   "source": [
    "bmi = int(input(\"Enter the BMI Index : \"))\n",
    "if(bmi<=18.5):\n",
    "    print(\"Underweight\")\n",
    "elif(bmi<=24.9):\n",
    "    print(\"Normal range\")\n",
    "elif(bmi<=29.9):\n",
    "    print(\"Overweight\")\n",
    "else:\n",
    "    print(\"Obese\")\n",
    "    "
   ]
  },
  {
   "cell_type": "code",
   "execution_count": 26,
   "id": "0fce5822",
   "metadata": {},
   "outputs": [
    {
     "name": "stdout",
     "output_type": "stream",
     "text": [
      "Enter the BMI Index : 45\n",
      "Obese\n",
      "Obese Class 3\n"
     ]
    }
   ],
   "source": [
    "bmi = float(input(\"Enter the BMI Index : \"))\n",
    "if(bmi<=18.5):\n",
    "    print(\"Underweight\")\n",
    "elif(bmi<=24.9):\n",
    "    print(\"Normal range\")\n",
    "elif(bmi<=29.9):\n",
    "    print(\"Overweight\")\n",
    "else:\n",
    "    print(\"Obese\")\n",
    "    if(bmi<=34.9):\n",
    "        print(\"Obese Class 1\")\n",
    "    elif(bmi<=39.9):\n",
    "        print(\"Obese Class 2\")\n",
    "    elif(bmi>=40):\n",
    "        print(\"Obese Class 3\")"
   ]
  },
  {
   "cell_type": "code",
   "execution_count": null,
   "id": "f061d72e",
   "metadata": {},
   "outputs": [],
   "source": []
  }
 ],
 "metadata": {
  "kernelspec": {
   "display_name": "Python 3 (ipykernel)",
   "language": "python",
   "name": "python3"
  },
  "language_info": {
   "codemirror_mode": {
    "name": "ipython",
    "version": 3
   },
   "file_extension": ".py",
   "mimetype": "text/x-python",
   "name": "python",
   "nbconvert_exporter": "python",
   "pygments_lexer": "ipython3",
   "version": "3.11.5"
  }
 },
 "nbformat": 4,
 "nbformat_minor": 5
}
