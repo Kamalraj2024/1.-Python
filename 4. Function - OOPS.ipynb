{
 "cells": [
  {
   "cell_type": "code",
   "execution_count": 3,
   "id": "901f91ac",
   "metadata": {},
   "outputs": [],
   "source": [
    "lists = [12,25,35,56,82]"
   ]
  },
  {
   "cell_type": "code",
   "execution_count": 4,
   "id": "49941fca",
   "metadata": {},
   "outputs": [],
   "source": [
    "def AgeCategory():\n",
    "    for age in lists:\n",
    "        if (age<18):\n",
    "            print(\"Children\")\n",
    "        elif(age<35):\n",
    "            print(\"Adult\")\n",
    "        elif(age<59):\n",
    "             print(\"Citizen\")\n",
    "        elif(age>59):\n",
    "            print(\"Senior Citizen\")"
   ]
  },
  {
   "cell_type": "code",
   "execution_count": 5,
   "id": "f2e0a8fa",
   "metadata": {},
   "outputs": [
    {
     "name": "stdout",
     "output_type": "stream",
     "text": [
      "Children\n",
      "Adult\n",
      "Citizen\n",
      "Citizen\n",
      "Senior Citizen\n"
     ]
    }
   ],
   "source": [
    "AgeCategory()"
   ]
  },
  {
   "cell_type": "code",
   "execution_count": 6,
   "id": "81ece64f",
   "metadata": {},
   "outputs": [
    {
     "name": "stdout",
     "output_type": "stream",
     "text": [
      "Enter the Age : 20\n"
     ]
    }
   ],
   "source": [
    "age = int(input(\"Enter the Age : \"))"
   ]
  },
  {
   "cell_type": "code",
   "execution_count": 7,
   "id": "97c9e8d8",
   "metadata": {},
   "outputs": [],
   "source": [
    "def AgeCategory():\n",
    "    if (age<18):\n",
    "        print(\"Children\")\n",
    "        cate = \"Chidren\"\n",
    "    elif(age<35):\n",
    "        print(\"Adult\")\n",
    "        cate = \"Adult\"\n",
    "    elif(age<59):\n",
    "        print(\"Citizen\")\n",
    "        cate = \"Citizen\"\n",
    "    elif(age>59):\n",
    "        print(\"Senior Citizen\")\n",
    "        cate = \"Senior Citizen\""
   ]
  },
  {
   "cell_type": "code",
   "execution_count": 8,
   "id": "3966b4e6",
   "metadata": {},
   "outputs": [
    {
     "name": "stdout",
     "output_type": "stream",
     "text": [
      "Adult\n"
     ]
    }
   ],
   "source": [
    "AgeCategory()"
   ]
  },
  {
   "cell_type": "code",
   "execution_count": 9,
   "id": "bf9c612f",
   "metadata": {},
   "outputs": [
    {
     "name": "stdout",
     "output_type": "stream",
     "text": [
      "Adult\n"
     ]
    }
   ],
   "source": [
    "agecate = AgeCategory()"
   ]
  },
  {
   "cell_type": "code",
   "execution_count": null,
   "id": "de46cd60",
   "metadata": {},
   "outputs": [],
   "source": []
  }
 ],
 "metadata": {
  "kernelspec": {
   "display_name": "Python 3 (ipykernel)",
   "language": "python",
   "name": "python3"
  },
  "language_info": {
   "codemirror_mode": {
    "name": "ipython",
    "version": 3
   },
   "file_extension": ".py",
   "mimetype": "text/x-python",
   "name": "python",
   "nbconvert_exporter": "python",
   "pygments_lexer": "ipython3",
   "version": "3.11.5"
  }
 },
 "nbformat": 4,
 "nbformat_minor": 5
}
