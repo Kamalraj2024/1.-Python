{
 "cells": [
  {
   "cell_type": "code",
   "execution_count": 1,
   "id": "77856642",
   "metadata": {},
   "outputs": [
    {
     "name": "stdout",
     "output_type": "stream",
     "text": [
      "30\n"
     ]
    }
   ],
   "source": [
    "num1 = 10\n",
    "num2 = 20\n",
    "add = num1 + num2\n",
    "print(add)"
   ]
  },
  {
   "cell_type": "code",
   "execution_count": 2,
   "id": "fb50d1e7",
   "metadata": {},
   "outputs": [
    {
     "name": "stdout",
     "output_type": "stream",
     "text": [
      "add\n",
      "30\n"
     ]
    }
   ],
   "source": [
    "num1 = 10\n",
    "num2 = 20\n",
    "add = num1 + num2\n",
    "print(\"add\")\n",
    "print(add)"
   ]
  },
  {
   "cell_type": "code",
   "execution_count": 4,
   "id": "ab820837",
   "metadata": {},
   "outputs": [],
   "source": [
    "firstNum = 10\n",
    "third_Num = 30\n"
   ]
  },
  {
   "cell_type": "code",
   "execution_count": 5,
   "id": "aaf415f4",
   "metadata": {},
   "outputs": [
    {
     "ename": "SyntaxError",
     "evalue": "invalid decimal literal (3838922647.py, line 1)",
     "output_type": "error",
     "traceback": [
      "\u001b[1;36m  Cell \u001b[1;32mIn[5], line 1\u001b[1;36m\u001b[0m\n\u001b[1;33m    4first = 10\u001b[0m\n\u001b[1;37m    ^\u001b[0m\n\u001b[1;31mSyntaxError\u001b[0m\u001b[1;31m:\u001b[0m invalid decimal literal\n"
     ]
    }
   ],
   "source": [
    "4first = 10"
   ]
  },
  {
   "cell_type": "code",
   "execution_count": 6,
   "id": "465a746f",
   "metadata": {},
   "outputs": [],
   "source": [
    "first4 = 10\n"
   ]
  },
  {
   "cell_type": "code",
   "execution_count": 8,
   "id": "d020c07d",
   "metadata": {},
   "outputs": [
    {
     "name": "stdout",
     "output_type": "stream",
     "text": [
      "Addition of Two Numbers\n",
      "The Number1 : 10\n",
      "The Number2 : 20\n",
      "Answer : 30\n"
     ]
    }
   ],
   "source": [
    "print(\"Addition of Two Numbers\")\n",
    "num1 = 10\n",
    "num2 = 20\n",
    "add = num1 + num2\n",
    "print(\"The Number1 :\",num1)\n",
    "print(\"The Number2 :\",num2)\n",
    "print(\"Answer :\",add)"
   ]
  },
  {
   "cell_type": "code",
   "execution_count": 7,
   "id": "c03b8d9e",
   "metadata": {},
   "outputs": [
    {
     "name": "stdout",
     "output_type": "stream",
     "text": [
      "Enter the Number1 : 10\n"
     ]
    }
   ],
   "source": [
    "num1 = int(input(\"Enter the Number1 : \"))\n"
   ]
  },
  {
   "cell_type": "code",
   "execution_count": 15,
   "id": "5416c01d",
   "metadata": {},
   "outputs": [
    {
     "name": "stdout",
     "output_type": "stream",
     "text": [
      "Enter the Numebr2 : 20\n"
     ]
    }
   ],
   "source": [
    "num2 = int(input(\"Enter the Numebr2 : \"))"
   ]
  },
  {
   "cell_type": "code",
   "execution_count": 11,
   "id": "e05e4709",
   "metadata": {},
   "outputs": [],
   "source": [
    "add = num1 + num2"
   ]
  },
  {
   "cell_type": "code",
   "execution_count": 16,
   "id": "87e660c5",
   "metadata": {},
   "outputs": [
    {
     "name": "stdout",
     "output_type": "stream",
     "text": [
      "30\n"
     ]
    },
    {
     "ename": "NameError",
     "evalue": "name 'mul' is not defined",
     "output_type": "error",
     "traceback": [
      "\u001b[1;31m---------------------------------------------------------------------------\u001b[0m",
      "\u001b[1;31mNameError\u001b[0m                                 Traceback (most recent call last)",
      "Cell \u001b[1;32mIn[16], line 2\u001b[0m\n\u001b[0;32m      1\u001b[0m \u001b[38;5;28mprint\u001b[39m(add)\n\u001b[1;32m----> 2\u001b[0m \u001b[38;5;28mprint\u001b[39m(mul)\n",
      "\u001b[1;31mNameError\u001b[0m: name 'mul' is not defined"
     ]
    }
   ],
   "source": [
    "print(add)\n",
    "print(mul)"
   ]
  },
  {
   "cell_type": "code",
   "execution_count": null,
   "id": "3627e2ca",
   "metadata": {},
   "outputs": [],
   "source": []
  }
 ],
 "metadata": {
  "kernelspec": {
   "display_name": "Python 3 (ipykernel)",
   "language": "python",
   "name": "python3"
  },
  "language_info": {
   "codemirror_mode": {
    "name": "ipython",
    "version": 3
   },
   "file_extension": ".py",
   "mimetype": "text/x-python",
   "name": "python",
   "nbconvert_exporter": "python",
   "pygments_lexer": "ipython3",
   "version": "3.11.5"
  }
 },
 "nbformat": 4,
 "nbformat_minor": 5
}
