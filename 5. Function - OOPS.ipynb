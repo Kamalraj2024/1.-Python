{
 "cells": [
  {
   "cell_type": "code",
   "execution_count": 6,
   "id": "615b4870",
   "metadata": {},
   "outputs": [],
   "source": [
    "def AgeCategory():\n",
    "    if (age<18):\n",
    "        print(\"Children\")\n",
    "        cate = \"Chidren\"\n",
    "    elif(age<35):\n",
    "        print(\"Adult\")\n",
    "        cate = \"Adult\"\n",
    "    elif(age<59):\n",
    "        print(\"Citizen\")\n",
    "        cate = \"Citizen\"\n",
    "    elif(age>59):\n",
    "        print(\"Senior Citizen\")\n",
    "        cate = \"Senior Citizen\"\n",
    "    return cate"
   ]
  },
  {
   "cell_type": "code",
   "execution_count": 8,
   "id": "d7a71128",
   "metadata": {},
   "outputs": [
    {
     "name": "stdout",
     "output_type": "stream",
     "text": [
      "Enter the Age : 25\n",
      "Adult\n"
     ]
    }
   ],
   "source": [
    "age = int(input(\"Enter the Age : \"))\n",
    "agecate = AgeCategory()"
   ]
  },
  {
   "cell_type": "code",
   "execution_count": 9,
   "id": "e6f9a472",
   "metadata": {},
   "outputs": [
    {
     "name": "stdout",
     "output_type": "stream",
     "text": [
      "Adult\n"
     ]
    }
   ],
   "source": [
    "print(agecate)"
   ]
  },
  {
   "cell_type": "code",
   "execution_count": 10,
   "id": "59f45096",
   "metadata": {},
   "outputs": [],
   "source": [
    "def oddEven():\n",
    "    num = int(input(\"Enter a value : \"))\n",
    "    if ((num%2)==0):\n",
    "        print(\"Even\")\n",
    "        message = \"Even\"\n",
    "    else:\n",
    "        print(\"odd\")\n",
    "        message = \"Odd\"\n",
    "    return message"
   ]
  },
  {
   "cell_type": "code",
   "execution_count": 12,
   "id": "ca3c2813",
   "metadata": {},
   "outputs": [
    {
     "name": "stdout",
     "output_type": "stream",
     "text": [
      "Enter a value : 5\n",
      "odd\n"
     ]
    },
    {
     "data": {
      "text/plain": [
       "'Odd'"
      ]
     },
     "execution_count": 12,
     "metadata": {},
     "output_type": "execute_result"
    }
   ],
   "source": [
    "oddEven()"
   ]
  },
  {
   "cell_type": "code",
   "execution_count": null,
   "id": "ff895780",
   "metadata": {},
   "outputs": [],
   "source": []
  }
 ],
 "metadata": {
  "kernelspec": {
   "display_name": "Python 3 (ipykernel)",
   "language": "python",
   "name": "python3"
  },
  "language_info": {
   "codemirror_mode": {
    "name": "ipython",
    "version": 3
   },
   "file_extension": ".py",
   "mimetype": "text/x-python",
   "name": "python",
   "nbconvert_exporter": "python",
   "pygments_lexer": "ipython3",
   "version": "3.11.5"
  }
 },
 "nbformat": 4,
 "nbformat_minor": 5
}
