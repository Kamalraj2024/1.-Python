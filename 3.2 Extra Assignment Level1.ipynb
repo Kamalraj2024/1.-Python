{
 "cells": [
  {
   "cell_type": "code",
   "execution_count": 1,
   "id": "389f505e",
   "metadata": {},
   "outputs": [
    {
     "name": "stdout",
     "output_type": "stream",
     "text": [
      "HOPE AI\n"
     ]
    }
   ],
   "source": [
    "print(\"HOPE AI\")"
   ]
  },
  {
   "cell_type": "code",
   "execution_count": 2,
   "id": "29d21c92",
   "metadata": {},
   "outputs": [
    {
     "name": "stdout",
     "output_type": "stream",
     "text": [
      "What is your Institute Name : Hope AI\n",
      "Hope AI\n"
     ]
    }
   ],
   "source": [
    "str1=input(\"What is your Institute Name : \")\n",
    "print(str1)"
   ]
  },
  {
   "cell_type": "code",
   "execution_count": 5,
   "id": "f107c327",
   "metadata": {},
   "outputs": [
    {
     "name": "stdout",
     "output_type": "stream",
     "text": [
      "Enter Your Name: kamal\n",
      "Enter Your Age: 23\n",
      "Enter Your School Name: BUHSS\n",
      "Enter Your Dgree: B.Sc\n",
      "kamal\n",
      "23\n",
      "BUHSS\n",
      "B.Sc\n"
     ]
    }
   ],
   "source": [
    "name = input(\"Enter Your Name: \")\n",
    "age = int(input(\"Enter Your Age: \"))\n",
    "sname = input(\"Enter Your School Name: \")\n",
    "degree = input(\"Enter Your Dgree: \")\n",
    "print(name)\n",
    "print(age)\n",
    "print(sname)\n",
    "print(degree)\n",
    "\n"
   ]
  },
  {
   "cell_type": "code",
   "execution_count": 7,
   "id": "841f53f9",
   "metadata": {},
   "outputs": [
    {
     "name": "stdout",
     "output_type": "stream",
     "text": [
      "77\n"
     ]
    }
   ],
   "source": [
    "a = 43\n",
    "b = 34\n",
    "add = a + b\n",
    "print(add)"
   ]
  },
  {
   "cell_type": "code",
   "execution_count": 8,
   "id": "6fbb999a",
   "metadata": {},
   "outputs": [
    {
     "name": "stdout",
     "output_type": "stream",
     "text": [
      "Enter a Value for A: 43\n",
      "Enter a Value for B: 34\n",
      "77\n"
     ]
    }
   ],
   "source": [
    "a = int(input(\"Enter a Value for A: \"))\n",
    "b = int(input(\"Enter a Value for B: \"))\n",
    "add = a + b\n",
    "print(add)"
   ]
  },
  {
   "cell_type": "code",
   "execution_count": 9,
   "id": "963ad96c",
   "metadata": {},
   "outputs": [
    {
     "name": "stdout",
     "output_type": "stream",
     "text": [
      "9\n"
     ]
    }
   ],
   "source": [
    "sub = a-b\n",
    "print(sub)"
   ]
  },
  {
   "cell_type": "code",
   "execution_count": 14,
   "id": "af26b519",
   "metadata": {},
   "outputs": [
    {
     "name": "stdout",
     "output_type": "stream",
     "text": [
      "6111\n"
     ]
    }
   ],
   "source": [
    "a = 63\n",
    "b = 97\n",
    "mul=a*b\n",
    "print(mul)"
   ]
  },
  {
   "cell_type": "code",
   "execution_count": 15,
   "id": "ec2ea05b",
   "metadata": {},
   "outputs": [
    {
     "name": "stdout",
     "output_type": "stream",
     "text": [
      "2.4516129032258065\n"
     ]
    }
   ],
   "source": [
    "a = 76\n",
    "b = 31\n",
    "div=a/b\n",
    "print(div)"
   ]
  },
  {
   "cell_type": "code",
   "execution_count": 16,
   "id": "71bc478d",
   "metadata": {},
   "outputs": [
    {
     "name": "stdout",
     "output_type": "stream",
     "text": [
      "14\n"
     ]
    }
   ],
   "source": [
    "mdiv = a%b\n",
    "print(mdiv)"
   ]
  },
  {
   "cell_type": "code",
   "execution_count": 19,
   "id": "4d88eb6d",
   "metadata": {},
   "outputs": [
    {
     "name": "stdout",
     "output_type": "stream",
     "text": [
      "64\n"
     ]
    }
   ],
   "source": [
    "a = 4\n",
    "b = 3\n",
    "powr = a ** b\n",
    "print(powr)"
   ]
  },
  {
   "cell_type": "code",
   "execution_count": 20,
   "id": "b46acca3",
   "metadata": {},
   "outputs": [
    {
     "name": "stdout",
     "output_type": "stream",
     "text": [
      "64\n"
     ]
    }
   ],
   "source": [
    "a = 4\n",
    "b = 3\n",
    "print(pow(a,b))"
   ]
  },
  {
   "cell_type": "code",
   "execution_count": null,
   "id": "eed19f87",
   "metadata": {},
   "outputs": [],
   "source": []
  }
 ],
 "metadata": {
  "kernelspec": {
   "display_name": "Python 3 (ipykernel)",
   "language": "python",
   "name": "python3"
  },
  "language_info": {
   "codemirror_mode": {
    "name": "ipython",
    "version": 3
   },
   "file_extension": ".py",
   "mimetype": "text/x-python",
   "name": "python",
   "nbconvert_exporter": "python",
   "pygments_lexer": "ipython3",
   "version": "3.11.5"
  }
 },
 "nbformat": 4,
 "nbformat_minor": 5
}
